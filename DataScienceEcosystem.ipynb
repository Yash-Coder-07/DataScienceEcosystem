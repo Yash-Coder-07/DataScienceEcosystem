{
 "cells": [
  {
   "cell_type": "code",
   "execution_count": null,
   "metadata": {},
   "outputs": [],
   "source": [
    "# Data Science Tools and Ecosystem"
   ]
  },
  {
   "cell_type": "markdown",
   "metadata": {},
   "source": [
    "In this notebook, Data Science Tools and Ecosystem are summarized."
   ]
  },
  {
   "cell_type": "markdown",
   "metadata": {},
   "source": [
    "Some of the popular languages that Data Scientists use are:\n",
    "Order list: Python \n",
    "            R\n",
    "            SQL"
   ]
  },
  {
   "cell_type": "markdown",
   "metadata": {},
   "source": [
    "Some of the commonly used libraries used by Data Scientists include:\n",
    "Order list: NumPy\n",
    "            SciPy\n",
    "            Matplotlib\n",
    "            Sickit-learn\n",
    "            Tensor-Flow"
   ]
  },
  {
   "cell_type": "code",
   "execution_count": 8,
   "metadata": {},
   "outputs": [
    {
     "data": {
      "text/html": [
       "\n",
       "<table style=\"border-collapse: collapse;\">\n",
       "  <tr style=\"border: 1px solid black;\">\n",
       "    <th style=\"border: 1px solid black; padding: 8px;\">Data Science Tools</th>\n",
       "  </tr>\n",
       "  <tr style=\"border: 1px solid black;\">\n",
       "    <td style=\"border: 1px solid black; padding: 8px;\">Jupyter Notebook</td>\n",
       "  </tr>\n",
       "  <tr style=\"border: 1px solid black;\">\n",
       "    <td style=\"border: 1px solid black; padding: 8px;\">RStudio</td>\n",
       "  </tr>\n",
       "  <tr style=\"border: 1px solid black;\">\n",
       "    <td style=\"border: 1px solid black; padding: 8px;\">Visual Studio Code</td>\n",
       "  </tr>\n",
       "</table>\n"
      ],
      "text/plain": [
       "<IPython.core.display.HTML object>"
      ]
     },
     "metadata": {},
     "output_type": "display_data"
    }
   ],
   "source": [
    "from IPython.display import HTML\n",
    "\n",
    "table_html = '''\n",
    "<table style=\"border-collapse: collapse;\">\n",
    "  <tr style=\"border: 1px solid black;\">\n",
    "    <th style=\"border: 1px solid black; padding: 8px;\">Data Science Tools</th>\n",
    "  </tr>\n",
    "  <tr style=\"border: 1px solid black;\">\n",
    "    <td style=\"border: 1px solid black; padding: 8px;\">Jupyter Notebook</td>\n",
    "  </tr>\n",
    "  <tr style=\"border: 1px solid black;\">\n",
    "    <td style=\"border: 1px solid black; padding: 8px;\">RStudio</td>\n",
    "  </tr>\n",
    "  <tr style=\"border: 1px solid black;\">\n",
    "    <td style=\"border: 1px solid black; padding: 8px;\">Visual Studio Code</td>\n",
    "  </tr>\n",
    "</table>\n",
    "'''\n",
    "\n",
    "display(HTML(table_html))\n"
   ]
  },
  {
   "cell_type": "markdown",
   "metadata": {},
   "source": [
    "### Below are a few examples of evaluating arithmetic expressions in Python"
   ]
  },
  {
   "cell_type": "code",
   "execution_count": 10,
   "metadata": {},
   "outputs": [
    {
     "data": {
      "text/plain": [
       "17"
      ]
     },
     "execution_count": 10,
     "metadata": {},
     "output_type": "execute_result"
    }
   ],
   "source": [
    "(3*4)+5"
   ]
  },
  {
   "cell_type": "code",
   "execution_count": 12,
   "metadata": {},
   "outputs": [
    {
     "name": "stdout",
     "output_type": "stream",
     "text": [
      "This will convert 200 minutes to hours by diving by 60\n"
     ]
    },
    {
     "data": {
      "text/plain": [
       "3.3333333333333335"
      ]
     },
     "execution_count": 12,
     "metadata": {},
     "output_type": "execute_result"
    }
   ],
   "source": [
    "print(\"This will convert 200 minutes to hours by diving by 60\")\n",
    "200/60"
   ]
  },
  {
   "cell_type": "markdown",
   "metadata": {},
   "source": [
    "# Objectives: \n",
    "unordered list :  List popular languages for Data Science\n",
    "                  Some of the commonly used libraries used by Data Scientists include:\n",
    "                  In this notebook, Data Science Tools and Ecosystem are summarized.\n",
    "                  (3*4)+5\n",
    "                   This will convert 200 minutes to hours by diving by 60"
   ]
  },
  {
   "cell_type": "markdown",
   "metadata": {},
   "source": [
    "## Author :\n",
    "   Yash Garale"
   ]
  }
 ],
 "metadata": {
  "kernelspec": {
   "display_name": "Python 3",
   "language": "python",
   "name": "python3"
  },
  "language_info": {
   "codemirror_mode": {
    "name": "ipython",
    "version": 3
   },
   "file_extension": ".py",
   "mimetype": "text/x-python",
   "name": "python",
   "nbconvert_exporter": "python",
   "pygments_lexer": "ipython3",
   "version": "3.11.1"
  },
  "orig_nbformat": 4
 },
 "nbformat": 4,
 "nbformat_minor": 2
}
